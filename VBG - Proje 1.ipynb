{
 "cells": [
  {
   "cell_type": "markdown",
   "metadata": {},
   "source": [
    "# Proje 1 - Pandas ile Veri Analizi\n",
    "* Aşağıda belirtilen soruların cevaplarını, ilgili boş hücrelere yazınız ve adı öğrenci numaranızdan oluşan nihai Jupyter Notebook (.ipynb) dosyasını, __09.06.2021 Çarşamba saat 18:00'e kadar__ EgeDers web sitesinde ilgili ders sayfasını kullanarak sisteme yükleyiniz. \n",
    "* Herhangi bir sorunuz olursa, EgeDers web sitesindeki ilgili ders sayfasında bu proje ile ilgili açılan forumu kullanınız.\n",
    "* Çözümlerinizde döngüler yerine ```pandas``` kütüphanesinin kullanılması gerekmektedir.\n",
    "* DataFrame'in gerekli sütunlarını elde edebilmek için (örn: anketteki 7. soru ile ilgili tüm sütunlar) \"```filter```\" metodunu kullanmanız önerilir.\n",
    "* Çözümler arasında belirli bir oranın üstünde benzerlik tespit edildiğinde, bu çözümlerin notunda aynı oranda kesinti yapılacaktır veya bu çözümler sıfır alacaktır."
   ]
  },
  {
   "cell_type": "markdown",
   "metadata": {},
   "source": [
    "## Soru 1:\n",
    "* Kaggle'in 2020 yılı için üyeleriyle yaptığı anket sonuçlarını içeren ekteki \"kaggle_survey_2020_responses.csv\" dosyasını 2. satırı atlayarak ```survey``` adlı DataFrame'e okuyun.\n",
    "* İlk sütunu silin.\n",
    "* Q1, Q2, Q3, Q4, Q5 ve Q6 sütun isimlerini sırasıyla Age, Gender, Country, Education, Occupation ve Coding Experience olacak şekilde değiştirin.\n",
    "* Education, Occupation ve Coding Experience sütunlarından herhangi birisisinde ```NaN``` değeri olan satırları siliniz. Kaç satır silindi?\n",
    "* En son oluşan DataFrame'in satır ve sütun sayısını yazdırın."
   ]
  },
  {
   "cell_type": "code",
   "execution_count": 1,
   "metadata": {},
   "outputs": [
    {
     "name": "stdout",
     "output_type": "stream",
     "text": [
      "Silinen satır=  916\n",
      "Son durumda satir ve sütun: (19120, 354)\n"
     ]
    },
    {
     "data": {
      "text/html": [
       "<div>\n",
       "<style scoped>\n",
       "    .dataframe tbody tr th:only-of-type {\n",
       "        vertical-align: middle;\n",
       "    }\n",
       "\n",
       "    .dataframe tbody tr th {\n",
       "        vertical-align: top;\n",
       "    }\n",
       "\n",
       "    .dataframe thead th {\n",
       "        text-align: right;\n",
       "    }\n",
       "</style>\n",
       "<table border=\"1\" class=\"dataframe\">\n",
       "  <thead>\n",
       "    <tr style=\"text-align: right;\">\n",
       "      <th></th>\n",
       "      <th>Age</th>\n",
       "      <th>Gender</th>\n",
       "      <th>Country</th>\n",
       "      <th>Education</th>\n",
       "      <th>Occupation</th>\n",
       "      <th>Coding Experience</th>\n",
       "      <th>Q7_Part_1</th>\n",
       "      <th>Q7_Part_2</th>\n",
       "      <th>Q7_Part_3</th>\n",
       "      <th>Q7_Part_4</th>\n",
       "      <th>...</th>\n",
       "      <th>Q35_B_Part_2</th>\n",
       "      <th>Q35_B_Part_3</th>\n",
       "      <th>Q35_B_Part_4</th>\n",
       "      <th>Q35_B_Part_5</th>\n",
       "      <th>Q35_B_Part_6</th>\n",
       "      <th>Q35_B_Part_7</th>\n",
       "      <th>Q35_B_Part_8</th>\n",
       "      <th>Q35_B_Part_9</th>\n",
       "      <th>Q35_B_Part_10</th>\n",
       "      <th>Q35_B_OTHER</th>\n",
       "    </tr>\n",
       "  </thead>\n",
       "  <tbody>\n",
       "    <tr>\n",
       "      <th>0</th>\n",
       "      <td>35-39</td>\n",
       "      <td>Man</td>\n",
       "      <td>Colombia</td>\n",
       "      <td>Doctoral degree</td>\n",
       "      <td>Student</td>\n",
       "      <td>5-10 years</td>\n",
       "      <td>Python</td>\n",
       "      <td>R</td>\n",
       "      <td>SQL</td>\n",
       "      <td>C</td>\n",
       "      <td>...</td>\n",
       "      <td>NaN</td>\n",
       "      <td>NaN</td>\n",
       "      <td>NaN</td>\n",
       "      <td>TensorBoard</td>\n",
       "      <td>NaN</td>\n",
       "      <td>NaN</td>\n",
       "      <td>NaN</td>\n",
       "      <td>NaN</td>\n",
       "      <td>NaN</td>\n",
       "      <td>NaN</td>\n",
       "    </tr>\n",
       "    <tr>\n",
       "      <th>1</th>\n",
       "      <td>30-34</td>\n",
       "      <td>Man</td>\n",
       "      <td>United States of America</td>\n",
       "      <td>Master’s degree</td>\n",
       "      <td>Data Engineer</td>\n",
       "      <td>5-10 years</td>\n",
       "      <td>Python</td>\n",
       "      <td>R</td>\n",
       "      <td>SQL</td>\n",
       "      <td>NaN</td>\n",
       "      <td>...</td>\n",
       "      <td>NaN</td>\n",
       "      <td>NaN</td>\n",
       "      <td>NaN</td>\n",
       "      <td>NaN</td>\n",
       "      <td>NaN</td>\n",
       "      <td>NaN</td>\n",
       "      <td>NaN</td>\n",
       "      <td>NaN</td>\n",
       "      <td>NaN</td>\n",
       "      <td>NaN</td>\n",
       "    </tr>\n",
       "    <tr>\n",
       "      <th>2</th>\n",
       "      <td>35-39</td>\n",
       "      <td>Man</td>\n",
       "      <td>Argentina</td>\n",
       "      <td>Bachelor’s degree</td>\n",
       "      <td>Software Engineer</td>\n",
       "      <td>10-20 years</td>\n",
       "      <td>NaN</td>\n",
       "      <td>NaN</td>\n",
       "      <td>NaN</td>\n",
       "      <td>NaN</td>\n",
       "      <td>...</td>\n",
       "      <td>NaN</td>\n",
       "      <td>NaN</td>\n",
       "      <td>NaN</td>\n",
       "      <td>NaN</td>\n",
       "      <td>NaN</td>\n",
       "      <td>NaN</td>\n",
       "      <td>NaN</td>\n",
       "      <td>NaN</td>\n",
       "      <td>None</td>\n",
       "      <td>NaN</td>\n",
       "    </tr>\n",
       "    <tr>\n",
       "      <th>3</th>\n",
       "      <td>30-34</td>\n",
       "      <td>Man</td>\n",
       "      <td>United States of America</td>\n",
       "      <td>Master’s degree</td>\n",
       "      <td>Data Scientist</td>\n",
       "      <td>5-10 years</td>\n",
       "      <td>Python</td>\n",
       "      <td>NaN</td>\n",
       "      <td>SQL</td>\n",
       "      <td>NaN</td>\n",
       "      <td>...</td>\n",
       "      <td>NaN</td>\n",
       "      <td>NaN</td>\n",
       "      <td>NaN</td>\n",
       "      <td>NaN</td>\n",
       "      <td>NaN</td>\n",
       "      <td>NaN</td>\n",
       "      <td>NaN</td>\n",
       "      <td>NaN</td>\n",
       "      <td>NaN</td>\n",
       "      <td>NaN</td>\n",
       "    </tr>\n",
       "    <tr>\n",
       "      <th>4</th>\n",
       "      <td>30-34</td>\n",
       "      <td>Man</td>\n",
       "      <td>Japan</td>\n",
       "      <td>Master’s degree</td>\n",
       "      <td>Software Engineer</td>\n",
       "      <td>3-5 years</td>\n",
       "      <td>Python</td>\n",
       "      <td>NaN</td>\n",
       "      <td>NaN</td>\n",
       "      <td>NaN</td>\n",
       "      <td>...</td>\n",
       "      <td>NaN</td>\n",
       "      <td>NaN</td>\n",
       "      <td>NaN</td>\n",
       "      <td>NaN</td>\n",
       "      <td>NaN</td>\n",
       "      <td>NaN</td>\n",
       "      <td>NaN</td>\n",
       "      <td>NaN</td>\n",
       "      <td>NaN</td>\n",
       "      <td>NaN</td>\n",
       "    </tr>\n",
       "    <tr>\n",
       "      <th>...</th>\n",
       "      <td>...</td>\n",
       "      <td>...</td>\n",
       "      <td>...</td>\n",
       "      <td>...</td>\n",
       "      <td>...</td>\n",
       "      <td>...</td>\n",
       "      <td>...</td>\n",
       "      <td>...</td>\n",
       "      <td>...</td>\n",
       "      <td>...</td>\n",
       "      <td>...</td>\n",
       "      <td>...</td>\n",
       "      <td>...</td>\n",
       "      <td>...</td>\n",
       "      <td>...</td>\n",
       "      <td>...</td>\n",
       "      <td>...</td>\n",
       "      <td>...</td>\n",
       "      <td>...</td>\n",
       "      <td>...</td>\n",
       "      <td>...</td>\n",
       "    </tr>\n",
       "    <tr>\n",
       "      <th>19115</th>\n",
       "      <td>35-39</td>\n",
       "      <td>Man</td>\n",
       "      <td>Thailand</td>\n",
       "      <td>Bachelor’s degree</td>\n",
       "      <td>Other</td>\n",
       "      <td>10-20 years</td>\n",
       "      <td>NaN</td>\n",
       "      <td>NaN</td>\n",
       "      <td>SQL</td>\n",
       "      <td>C</td>\n",
       "      <td>...</td>\n",
       "      <td>NaN</td>\n",
       "      <td>NaN</td>\n",
       "      <td>NaN</td>\n",
       "      <td>NaN</td>\n",
       "      <td>NaN</td>\n",
       "      <td>NaN</td>\n",
       "      <td>NaN</td>\n",
       "      <td>NaN</td>\n",
       "      <td>None</td>\n",
       "      <td>NaN</td>\n",
       "    </tr>\n",
       "    <tr>\n",
       "      <th>19116</th>\n",
       "      <td>55-59</td>\n",
       "      <td>Woman</td>\n",
       "      <td>United Kingdom of Great Britain and Northern I...</td>\n",
       "      <td>Master’s degree</td>\n",
       "      <td>Currently not employed</td>\n",
       "      <td>20+ years</td>\n",
       "      <td>Python</td>\n",
       "      <td>NaN</td>\n",
       "      <td>NaN</td>\n",
       "      <td>NaN</td>\n",
       "      <td>...</td>\n",
       "      <td>NaN</td>\n",
       "      <td>NaN</td>\n",
       "      <td>NaN</td>\n",
       "      <td>NaN</td>\n",
       "      <td>NaN</td>\n",
       "      <td>NaN</td>\n",
       "      <td>NaN</td>\n",
       "      <td>NaN</td>\n",
       "      <td>None</td>\n",
       "      <td>NaN</td>\n",
       "    </tr>\n",
       "    <tr>\n",
       "      <th>19117</th>\n",
       "      <td>30-34</td>\n",
       "      <td>Man</td>\n",
       "      <td>Brazil</td>\n",
       "      <td>Master’s degree</td>\n",
       "      <td>Research Scientist</td>\n",
       "      <td>&lt; 1 years</td>\n",
       "      <td>Python</td>\n",
       "      <td>NaN</td>\n",
       "      <td>NaN</td>\n",
       "      <td>NaN</td>\n",
       "      <td>...</td>\n",
       "      <td>NaN</td>\n",
       "      <td>NaN</td>\n",
       "      <td>NaN</td>\n",
       "      <td>NaN</td>\n",
       "      <td>NaN</td>\n",
       "      <td>NaN</td>\n",
       "      <td>NaN</td>\n",
       "      <td>NaN</td>\n",
       "      <td>NaN</td>\n",
       "      <td>NaN</td>\n",
       "    </tr>\n",
       "    <tr>\n",
       "      <th>19118</th>\n",
       "      <td>22-24</td>\n",
       "      <td>Man</td>\n",
       "      <td>India</td>\n",
       "      <td>Bachelor’s degree</td>\n",
       "      <td>Software Engineer</td>\n",
       "      <td>3-5 years</td>\n",
       "      <td>Python</td>\n",
       "      <td>NaN</td>\n",
       "      <td>SQL</td>\n",
       "      <td>C</td>\n",
       "      <td>...</td>\n",
       "      <td>Weights &amp; Biases</td>\n",
       "      <td>NaN</td>\n",
       "      <td>NaN</td>\n",
       "      <td>TensorBoard</td>\n",
       "      <td>NaN</td>\n",
       "      <td>NaN</td>\n",
       "      <td>Trains</td>\n",
       "      <td>NaN</td>\n",
       "      <td>NaN</td>\n",
       "      <td>NaN</td>\n",
       "    </tr>\n",
       "    <tr>\n",
       "      <th>19119</th>\n",
       "      <td>22-24</td>\n",
       "      <td>Man</td>\n",
       "      <td>Pakistan</td>\n",
       "      <td>Master’s degree</td>\n",
       "      <td>Machine Learning Engineer</td>\n",
       "      <td>&lt; 1 years</td>\n",
       "      <td>Python</td>\n",
       "      <td>NaN</td>\n",
       "      <td>NaN</td>\n",
       "      <td>NaN</td>\n",
       "      <td>...</td>\n",
       "      <td>Weights &amp; Biases</td>\n",
       "      <td>NaN</td>\n",
       "      <td>NaN</td>\n",
       "      <td>NaN</td>\n",
       "      <td>NaN</td>\n",
       "      <td>NaN</td>\n",
       "      <td>Trains</td>\n",
       "      <td>NaN</td>\n",
       "      <td>NaN</td>\n",
       "      <td>NaN</td>\n",
       "    </tr>\n",
       "  </tbody>\n",
       "</table>\n",
       "<p>19120 rows × 354 columns</p>\n",
       "</div>"
      ],
      "text/plain": [
       "         Age Gender                                            Country  \\\n",
       "0      35-39    Man                                           Colombia   \n",
       "1      30-34    Man                           United States of America   \n",
       "2      35-39    Man                                          Argentina   \n",
       "3      30-34    Man                           United States of America   \n",
       "4      30-34    Man                                              Japan   \n",
       "...      ...    ...                                                ...   \n",
       "19115  35-39    Man                                           Thailand   \n",
       "19116  55-59  Woman  United Kingdom of Great Britain and Northern I...   \n",
       "19117  30-34    Man                                             Brazil   \n",
       "19118  22-24    Man                                              India   \n",
       "19119  22-24    Man                                           Pakistan   \n",
       "\n",
       "               Education                 Occupation Coding Experience  \\\n",
       "0        Doctoral degree                    Student        5-10 years   \n",
       "1        Master’s degree              Data Engineer        5-10 years   \n",
       "2      Bachelor’s degree          Software Engineer       10-20 years   \n",
       "3        Master’s degree             Data Scientist        5-10 years   \n",
       "4        Master’s degree          Software Engineer         3-5 years   \n",
       "...                  ...                        ...               ...   \n",
       "19115  Bachelor’s degree                      Other       10-20 years   \n",
       "19116    Master’s degree     Currently not employed         20+ years   \n",
       "19117    Master’s degree         Research Scientist         < 1 years   \n",
       "19118  Bachelor’s degree          Software Engineer         3-5 years   \n",
       "19119    Master’s degree  Machine Learning Engineer         < 1 years   \n",
       "\n",
       "      Q7_Part_1 Q7_Part_2 Q7_Part_3 Q7_Part_4  ...        Q35_B_Part_2  \\\n",
       "0        Python         R       SQL         C  ...                 NaN   \n",
       "1        Python         R       SQL       NaN  ...                 NaN   \n",
       "2           NaN       NaN       NaN       NaN  ...                 NaN   \n",
       "3        Python       NaN       SQL       NaN  ...                 NaN   \n",
       "4        Python       NaN       NaN       NaN  ...                 NaN   \n",
       "...         ...       ...       ...       ...  ...                 ...   \n",
       "19115       NaN       NaN       SQL         C  ...                 NaN   \n",
       "19116    Python       NaN       NaN       NaN  ...                 NaN   \n",
       "19117    Python       NaN       NaN       NaN  ...                 NaN   \n",
       "19118    Python       NaN       SQL         C  ...   Weights & Biases    \n",
       "19119    Python       NaN       NaN       NaN  ...   Weights & Biases    \n",
       "\n",
       "      Q35_B_Part_3 Q35_B_Part_4   Q35_B_Part_5 Q35_B_Part_6 Q35_B_Part_7  \\\n",
       "0              NaN          NaN   TensorBoard           NaN          NaN   \n",
       "1              NaN          NaN            NaN          NaN          NaN   \n",
       "2              NaN          NaN            NaN          NaN          NaN   \n",
       "3              NaN          NaN            NaN          NaN          NaN   \n",
       "4              NaN          NaN            NaN          NaN          NaN   \n",
       "...            ...          ...            ...          ...          ...   \n",
       "19115          NaN          NaN            NaN          NaN          NaN   \n",
       "19116          NaN          NaN            NaN          NaN          NaN   \n",
       "19117          NaN          NaN            NaN          NaN          NaN   \n",
       "19118          NaN          NaN   TensorBoard           NaN          NaN   \n",
       "19119          NaN          NaN            NaN          NaN          NaN   \n",
       "\n",
       "      Q35_B_Part_8 Q35_B_Part_9 Q35_B_Part_10 Q35_B_OTHER  \n",
       "0              NaN          NaN           NaN         NaN  \n",
       "1              NaN          NaN           NaN         NaN  \n",
       "2              NaN          NaN          None         NaN  \n",
       "3              NaN          NaN           NaN         NaN  \n",
       "4              NaN          NaN           NaN         NaN  \n",
       "...            ...          ...           ...         ...  \n",
       "19115          NaN          NaN          None         NaN  \n",
       "19116          NaN          NaN          None         NaN  \n",
       "19117          NaN          NaN           NaN         NaN  \n",
       "19118      Trains           NaN           NaN         NaN  \n",
       "19119      Trains           NaN           NaN         NaN  \n",
       "\n",
       "[19120 rows x 354 columns]"
      ]
     },
     "execution_count": 1,
     "metadata": {},
     "output_type": "execute_result"
    }
   ],
   "source": [
    "import pandas as pd\n",
    "survey = pd.read_csv(\"kaggle_survey_2020_responses.csv\",skiprows=[1]) #2. satırı atlayarak veri okuma\n",
    "survey=survey.drop('Time from Start to Finish (seconds)',1) #Time from Start to Finish (seconds) silinsin\n",
    "survey.rename(columns= {'Q1':'Age', 'Q2':'Gender','Q3':'Country','Q4':'Education','Q5':'Occupation','Q6':'Coding Experience'},\n",
    "              inplace = True) #Sütun isimleri değiştirilsin\n",
    "silinmeden_once_satir=survey.shape[0]\n",
    "survey=survey.dropna(subset=['Education', 'Occupation','Coding Experience']) #sütunlardaki nan değerleri silinsin\n",
    "silindikten_sonra_satir=survey.shape[0]\n",
    "survey=survey.reset_index(drop=True) #indeksleri düzeltelim\n",
    "print(\"Silinen satır= \",silinmeden_once_satir-silindikten_sonra_satir)\n",
    "print(\"Son durumda satir ve sütun:\",survey.shape)\n",
    "survey"
   ]
  },
  {
   "cell_type": "markdown",
   "metadata": {},
   "source": [
    "## Soru 2:\n",
    "Ankete katılanların yaş aralık dağılımını pasta grafiği ile gösteriniz."
   ]
  },
  {
   "cell_type": "code",
   "execution_count": 2,
   "metadata": {},
   "outputs": [
    {
     "data": {
      "text/plain": [
       "<AxesSubplot:ylabel='Age'>"
      ]
     },
     "execution_count": 2,
     "metadata": {},
     "output_type": "execute_result"
    },
    {
     "data": {
      "image/png": "[encoded data removed]",
      "text/plain": [
       "<Figure size 432x288 with 1 Axes>"
      ]
     },
     "metadata": {},
     "output_type": "display_data"
    }
   ],
   "source": [
    "##NaN veriler silinmiş Dataframeden devam edildi.\n",
    "survey.Age.value_counts().plot(kind='pie',autopct='%1.1f%%')"
   ]
  },
  {
   "cell_type": "markdown",
   "metadata": {},
   "source": [
    "## Soru 3:\n",
    "Türkiye'den ankete katılanların eğitim seviyelerine göre sayılarını listeleyiniz."
   ]
  },
  {
   "cell_type": "code",
   "execution_count": 3,
   "metadata": {},
   "outputs": [
    {
     "data": {
      "text/plain": [
       "Bachelor’s degree                                                    129\n",
       "Master’s degree                                                      111\n",
       "Doctoral degree                                                       50\n",
       "Some college/university study without earning a bachelor’s degree     15\n",
       "I prefer not to answer                                                 8\n",
       "Professional degree                                                    6\n",
       "No formal education past high school                                   3\n",
       "Name: Education, dtype: int64"
      ]
     },
     "execution_count": 3,
     "metadata": {},
     "output_type": "execute_result"
    }
   ],
   "source": [
    "Türkiye_Survey=survey[survey['Country']=='Turkey']\n",
    "Türkiye_Survey.Education.value_counts()"
   ]
  },
  {
   "cell_type": "markdown",
   "metadata": {},
   "source": [
    "## Soru 4:\n",
    "Her bir yaş aralığı için en çok yapılan meslek ismini (```Occupation```) listeleyiniz."
   ]
  },
  {
   "cell_type": "code",
   "execution_count": 4,
   "metadata": {},
   "outputs": [
    {
     "data": {
      "text/plain": [
       "Age\n",
       "18-21           Student\n",
       "22-24           Student\n",
       "25-29           Student\n",
       "30-34    Data Scientist\n",
       "35-39    Data Scientist\n",
       "40-44    Data Scientist\n",
       "45-49             Other\n",
       "50-54             Other\n",
       "55-59             Other\n",
       "60-69             Other\n",
       "70+      Data Scientist\n",
       "Name: Occupation, dtype: object"
      ]
     },
     "execution_count": 4,
     "metadata": {},
     "output_type": "execute_result"
    }
   ],
   "source": [
    "survey.Occupation.groupby(survey['Age']).agg(lambda x:x.value_counts().index[0])"
   ]
  },
  {
   "cell_type": "markdown",
   "metadata": {},
   "source": [
    "## Soru 5:\n",
    "* Her bir programlama dilinin kaç anket katılımcısı tarafından kullanıldığını bulup büyükten küçüğe sıralayınız.\n",
    "* Her bir programlama dilinin kaç ```Data Scientist``` tarafından kullanıldığını bulup büyükten küçüğe sıralayınız. \n",
    "* Her iki sonucu aynı figürde yan yana iki alt grafik (subplot) olarak gösteriniz. Grafiklere uygun birer başlık (```title```) atayınız."
   ]
  },
  {
   "cell_type": "code",
   "execution_count": 5,
   "metadata": {},
   "outputs": [
    {
     "data": {
      "text/plain": [
       "Python        15530\n",
       "SQL            7535\n",
       "R              4277\n",
       "C++            3827\n",
       "Java           3367\n",
       "C              3315\n",
       "JavaScript     2995\n",
       "MATLAB         2217\n",
       "Other          1945\n",
       "Bash           1776\n",
       "Julia           262\n",
       "None            206\n",
       "Swift           198\n",
       "dtype: int64"
      ]
     },
     "execution_count": 5,
     "metadata": {},
     "output_type": "execute_result"
    }
   ],
   "source": [
    "selected_columns=['Q7_Part_1','Q7_Part_2','Q7_Part_3','Q7_Part_4','Q7_Part_5','Q7_Part_6','Q7_Part_7','Q7_Part_8','Q7_Part_9',\n",
    "                  'Q7_Part_10','Q7_Part_11','Q7_Part_12','Q7_OTHER']\n",
    "statistics=survey[selected_columns].copy()\n",
    "statistics=statistics.rename(columns={'Q7_Part_1':'Python','Q7_Part_2':'R','Q7_Part_3':'SQL','Q7_Part_4':'C','Q7_Part_5':'C++',\n",
    "'Q7_Part_6':'Java','Q7_Part_7':'JavaScript','Q7_Part_8':'Julia','Q7_Part_9':'Swift',\n",
    "                  'Q7_Part_10':'Bash','Q7_Part_11':'MATLAB','Q7_Part_12':'None','Q7_OTHER':'Other'})\n",
    "pl_statistics=statistics.count().sort_values(ascending=False)\n",
    "pl_statistics\n"
   ]
  },
  {
   "cell_type": "code",
   "execution_count": 6,
   "metadata": {},
   "outputs": [
    {
     "data": {
      "text/plain": [
       "Python        2453\n",
       "SQL           1473\n",
       "R              975\n",
       "Bash           405\n",
       "C++            323\n",
       "Java           305\n",
       "JavaScript     290\n",
       "C              247\n",
       "Other          245\n",
       "MATLAB         242\n",
       "Julia           71\n",
       "Swift           14\n",
       "None             5\n",
       "dtype: int64"
      ]
     },
     "execution_count": 6,
     "metadata": {},
     "output_type": "execute_result"
    }
   ],
   "source": [
    "ds_data=survey[survey['Occupation']=='Data Scientist']\n",
    "ds_statistics=ds_data[selected_columns].copy()\n",
    "ds_statistics=ds_statistics.rename(columns={'Q7_Part_1':'Python','Q7_Part_2':'R','Q7_Part_3':'SQL','Q7_Part_4':'C','Q7_Part_5':'C++',\n",
    "'Q7_Part_6':'Java','Q7_Part_7':'JavaScript','Q7_Part_8':'Julia','Q7_Part_9':'Swift',\n",
    "                  'Q7_Part_10':'Bash','Q7_Part_11':'MATLAB','Q7_Part_12':'None','Q7_OTHER':'Other'})\n",
    "ds_statistics=ds_statistics.count().sort_values(ascending=False)\n",
    "ds_statistics\n"
   ]
  },
  {
   "cell_type": "code",
   "execution_count": 7,
   "metadata": {},
   "outputs": [
    {
     "data": {
      "image/png": "[encoded data removed]",
      "text/plain": [
       "<Figure size 1800x432 with 2 Axes>"
      ]
     },
     "metadata": {
      "needs_background": "light"
     },
     "output_type": "display_data"
    }
   ],
   "source": [
    "import matplotlib.pyplot as plt\n",
    "fig=plt.figure(figsize=(25,6))\n",
    "ax1=fig.add_subplot(1,2,1)\n",
    "plt.plot(pl_statistics)\n",
    "ax2=fig.add_subplot(1,2,2)\n",
    "ax1.title.set_text('Popularities of Each Programming Languages in Survey')\n",
    "ax2.title.set_text('Data Scientists Favorite Programming Languages in Survey')\n",
    "plt.plot(ds_statistics)\n",
    "plt.show()"
   ]
  },
  {
   "cell_type": "markdown",
   "metadata": {},
   "source": [
    "# Soru 6:\n",
    "Yatay eksende kodlama deneyimi, dikey eksende makine öğrenmesi metotlarını kullanan ```Data Scientist``` sayısı olacak şekilde bir sütun grafiği çiziniz."
   ]
  },
  {
   "cell_type": "code",
   "execution_count": 8,
   "metadata": {},
   "outputs": [
    {
     "data": {
      "image/png": "[encoded data removed]",
      "text/plain": [
       "<Figure size 432x288 with 1 Axes>"
      ]
     },
     "metadata": {
      "needs_background": "light"
     },
     "output_type": "display_data"
    }
   ],
   "source": [
    "ds_data=ds_data[ds_data['Q16_Part_15']!='None']#Kullanmayanları silelim\n",
    "ds_statistics=ds_data['Coding Experience'].value_counts()\n",
    "reorder_list=['I have never written code','< 1 years','1-2 years','3-5 years','5-10 years','10-20 years','20+ years']\n",
    "ds_statistics=ds_statistics.reindex(reorder_list)\n",
    "ds_statistics.plot(x='Coding Experience',y=ds_statistics,kind='bar')\n",
    "plt.show()"
   ]
  },
  {
   "cell_type": "markdown",
   "metadata": {},
   "source": [
    "## Soru 7:\n",
    "* Yalnızca scikit-learn framework'ünü kullananların kullandıkları makine öğrenmesi algoritmalarının kullanıcı sayılarını büyükten küçüğe listeleyiniz.\n",
    "* Scikit-learn, tensorflow ve keras kütüphanelerini düzenli olarak kullanan kişi sayısı kaçtır?"
   ]
  },
  {
   "cell_type": "code",
   "execution_count": 9,
   "metadata": {},
   "outputs": [
    {
     "data": {
      "text/plain": [
       "Linear or Logistic Regression       1683\n",
       "Decision Trees or Random Forests    1292\n",
       "Bayesian Approaches                  428\n",
       "Gradient Boosting Machines           295\n",
       "Convolutional Neural Networks        138\n",
       "None                                 105\n",
       "Dense Neural Networks                 68\n",
       "Recurrent Neural Networks             67\n",
       "Other                                 60\n",
       "Evolutionary Approaches               38\n",
       "Transformer Networks                  20\n",
       "Generative Adversarial Networks        8\n",
       "dtype: int64"
      ]
     },
     "execution_count": 9,
     "metadata": {},
     "output_type": "execute_result"
    }
   ],
   "source": [
    "scikit_users=survey.dropna(subset=['Q16_Part_1'])\n",
    "scikit_users=scikit_users[scikit_users.Q16_Part_2.isnull() & scikit_users.Q16_Part_3.isnull() & scikit_users.Q16_Part_4.isnull()\n",
    "                         & scikit_users.Q16_Part_5.isnull() & scikit_users.Q16_Part_6.isnull() & scikit_users.Q16_Part_7.isnull()\n",
    "                         & scikit_users.Q16_Part_8.isnull() & scikit_users.Q16_Part_9.isnull() &scikit_users.Q16_Part_10.isnull()\n",
    "                         & scikit_users.Q16_Part_11.isnull() & scikit_users.Q16_Part_12.isnull() & scikit_users.Q16_Part_13.isnull()\n",
    "                         & scikit_users.Q16_Part_14.isnull() & scikit_users.Q16_Part_15.isnull()& scikit_users.Q16_OTHER.isnull()]\n",
    "scikit_machine_learning_algorithms=scikit_users.filter(['Q17_Part_1','Q17_Part_2','Q17_Part_3','Q17_Part_4','Q17_Part_5','Q17_Part_6','Q17_Part_7',\n",
    "                    'Q17_Part_8','Q17_Part_9','Q17_Part_10','Q17_Part_11','Q17_OTHER'])\n",
    "scikit_machine_learning_algorithms=scikit_machine_learning_algorithms.rename(\n",
    "    columns={'Q17_Part_1':'Linear or Logistic Regression','Q17_Part_2':'Decision Trees or Random Forests',\n",
    "'Q17_Part_3':'Gradient Boosting Machines','Q17_Part_4':'Bayesian Approaches','Q17_Part_5':'Evolutionary Approaches',\n",
    "'Q17_Part_6':'Dense Neural Networks','Q17_Part_7':'Convolutional Neural Networks','Q17_Part_8':'Generative Adversarial Networks',\n",
    "'Q17_Part_9':'Recurrent Neural Networks','Q17_Part_10':'Transformer Networks','Q17_Part_11':'None', 'Q17_OTHER':'Other'})\n",
    "scikit_machine_learning_algorithms.count().sort_values(ascending=False)"
   ]
  },
  {
   "cell_type": "code",
   "execution_count": 10,
   "metadata": {},
   "outputs": [
    {
     "data": {
      "text/plain": [
       "Scikit-learn    10250\n",
       "Tensorflow       6934\n",
       "Keras            6192\n",
       "dtype: int64"
      ]
     },
     "execution_count": 10,
     "metadata": {},
     "output_type": "execute_result"
    }
   ],
   "source": [
    "selected_libraries=survey.filter(['Q16_Part_1','Q16_Part_2','Q16_Part_3'])\n",
    "selected_libraries=selected_libraries.rename(columns={'Q16_Part_1':'Scikit-learn','Q16_Part_2':'Tensorflow','Q16_Part_3':'Keras'})\n",
    "selected_libraries.count()"
   ]
  },
  {
   "cell_type": "markdown",
   "metadata": {},
   "source": [
    "## Soru 8:\n",
    "* Ortalama yıllık maaşı en yüksek olan meslek (```Occupation```) nedir? ```Data Scientist``` kaçıncı sıradadır? **Not:** Aralık olarak verilen maaşların orta noktasını maaş değeri olarak alıp ```ConvertedComp``` isimli yeni bir sütun ekleyiniz.\n",
    "* ```Data Scientist``` olarak çalışanların ülke bazında ortalama yıllık maaşlarını büyükten küçüğe sıralayın, ilk 10 ülkeyi ve bu ülkelerdeki ortalama yıllık ```Data Scientist``` maaşlarını listeleyin.\n",
    "* 250’den fazla kişi çalışan kurumdakilerin ortalama maaşları ne kadardır?\n",
    "* Hesaplanan maaş (```ConvertedComp```) sütununu kullanarak ülke bazlı ortalama, standart sapma ve medyan değerlerinden oluşan bir dataframe oluşturun ve listeleyin. Türkiye kaçıncı sıradadır ve değeri kaçtır?"
   ]
  },
  {
   "cell_type": "code",
   "execution_count": 11,
   "metadata": {},
   "outputs": [
    {
     "data": {
      "text/plain": [
       "Occupation\n",
       "Product/Project Manager    62362.711864\n",
       "Name: ConvertedComp, dtype: float64"
      ]
     },
     "execution_count": 11,
     "metadata": {},
     "output_type": "execute_result"
    }
   ],
   "source": [
    "deneme=survey.filter(['Country','Education','Coding Experience','Occupation','Q20','Q24'])\n",
    "deneme=deneme.dropna(subset=['Q24'])\n",
    "deneme=deneme.reset_index(drop=True)\n",
    "deneme.loc[deneme['Q24']=='$0-999', 'ConvertedComp'] = 500\n",
    "deneme.loc[deneme['Q24']=='1,000-1,999', 'ConvertedComp'] = 1500\n",
    "deneme.loc[deneme['Q24']=='2,000-2,999', 'ConvertedComp'] = 2500\n",
    "deneme.loc[deneme['Q24']=='3,000-3,999', 'ConvertedComp'] = 3500\n",
    "deneme.loc[deneme['Q24']=='4,000-4,999', 'ConvertedComp'] = 4500\n",
    "deneme.loc[deneme['Q24']=='5,000-7,499', 'ConvertedComp'] = 6250\n",
    "deneme.loc[deneme['Q24']=='7,500-9,999', 'ConvertedComp'] = 8750\n",
    "deneme.loc[deneme['Q24']=='10,000-14,999', 'ConvertedComp'] = 12500\n",
    "deneme.loc[deneme['Q24']=='15,000-19,999', 'ConvertedComp'] = 17500\n",
    "deneme.loc[deneme['Q24']=='20,000-24,999', 'ConvertedComp'] = 22500\n",
    "deneme.loc[deneme['Q24']=='25,000-29,999', 'ConvertedComp'] = 27500\n",
    "deneme.loc[deneme['Q24']=='30,000-39,999', 'ConvertedComp'] = 35000\n",
    "deneme.loc[deneme['Q24']=='40,000-49,999', 'ConvertedComp'] = 45000\n",
    "deneme.loc[deneme['Q24']=='50,000-59,999', 'ConvertedComp'] = 55000\n",
    "deneme.loc[deneme['Q24']=='60,000-69,999', 'ConvertedComp'] = 65000\n",
    "deneme.loc[deneme['Q24']=='70,000-79,999', 'ConvertedComp'] = 75000\n",
    "deneme.loc[deneme['Q24']=='80,000-89,999', 'ConvertedComp'] = 85000\n",
    "deneme.loc[deneme['Q24']=='90,000-99,999', 'ConvertedComp'] = 95000\n",
    "deneme.loc[deneme['Q24']=='100,000-124,999', 'ConvertedComp'] = 112500\n",
    "deneme.loc[deneme['Q24']=='125,000-149,999', 'ConvertedComp'] = 137500\n",
    "deneme.loc[deneme['Q24']=='150,000-199,999', 'ConvertedComp'] = 175000\n",
    "deneme.loc[deneme['Q24']=='200,000-249,999', 'ConvertedComp'] = 225000\n",
    "deneme.loc[deneme['Q24']=='250,000-299,999', 'ConvertedComp'] = 275000\n",
    "deneme.loc[deneme['Q24']=='300,000-500,000', 'ConvertedComp'] = 400000\n",
    "deneme.loc[deneme['Q24']=='> $500,000', 'ConvertedComp'] = 500000\n",
    "ds_sıra=deneme.ConvertedComp.groupby(deneme['Occupation']).mean().sort_values(ascending=False)\n",
    "deneme.ConvertedComp.groupby(deneme['Occupation']).mean().sort_values(ascending=False).head(1)"
   ]
  },
  {
   "cell_type": "code",
   "execution_count": 12,
   "metadata": {},
   "outputs": [
    {
     "name": "stdout",
     "output_type": "stream",
     "text": [
      "Data Scientist sırası= Int64Index([2], dtype='int64')\n"
     ]
    }
   ],
   "source": [
    "ds_sıralama=ds_sıra.to_frame().reset_index()\n",
    "print(\"Data Scientist sırası=\",ds_sıralama[ds_sıralama['Occupation']=='Data Scientist'].index+1)"
   ]
  },
  {
   "cell_type": "code",
   "execution_count": 13,
   "metadata": {},
   "outputs": [
    {
     "data": {
      "text/plain": [
       "Country\n",
       "United States of America                                142609.806630\n",
       "Israel                                                  111980.000000\n",
       "Switzerland                                             109230.769231\n",
       "Australia                                               104319.444444\n",
       "United Kingdom of Great Britain and Northern Ireland     89750.000000\n",
       "Germany                                                  79804.687500\n",
       "Ireland                                                  78500.000000\n",
       "Singapore                                                76937.500000\n",
       "Canada                                                   74466.981132\n",
       "Thailand                                                 73708.333333\n",
       "Name: ConvertedComp, dtype: float64"
      ]
     },
     "execution_count": 13,
     "metadata": {},
     "output_type": "execute_result"
    }
   ],
   "source": [
    "data_scientists=deneme[deneme['Occupation']=='Data Scientist']\n",
    "data_scientists.ConvertedComp.groupby(deneme['Country']).mean().sort_values(ascending=False).head(10)"
   ]
  },
  {
   "cell_type": "code",
   "execution_count": 14,
   "metadata": {},
   "outputs": [
    {
     "data": {
      "text/plain": [
       "56411.32254995243"
      ]
     },
     "execution_count": 14,
     "metadata": {},
     "output_type": "execute_result"
    }
   ],
   "source": [
    "calısan_fazla_250=deneme[(deneme['Q20']=='250-999 employees')|(deneme['Q20']=='1000-9,999 employees')|(deneme['Q20']=='10,000 or more employees')]\n",
    "calısan_fazla_250.ConvertedComp.mean()"
   ]
  },
  {
   "cell_type": "code",
   "execution_count": 15,
   "metadata": {},
   "outputs": [
    {
     "name": "stdout",
     "output_type": "stream",
     "text": [
      "Türkiye sırası = Int64Index([40], dtype='int64')\n"
     ]
    }
   ],
   "source": [
    "Turkey_dataframe=deneme.groupby('Country').describe()\n",
    "Turkey_dataframe=Turkey_dataframe.sort_values([('ConvertedComp', 'mean')], ascending=False).reset_index()\n",
    "print(\"Türkiye sırası =\",Turkey_dataframe[Turkey_dataframe['Country']=='Turkey'].index+1)"
   ]
  },
  {
   "cell_type": "markdown",
   "metadata": {},
   "source": [
    "# Soru 9:\n",
    "Lisans, yüksek lisans ve doktora mezunlarına ilişkin (ayrı ayrı); yatay eksende kodlama deneyimi (artan sırada olmalıdır), dikey eksende ortalama maaş bilgisi olacak şekilde tek bir çizgi grafiği çiziniz."
   ]
  },
  {
   "cell_type": "code",
   "execution_count": 16,
   "metadata": {
    "scrolled": false
   },
   "outputs": [
    {
     "data": {
      "text/plain": [
       "<matplotlib.legend.Legend at 0x192ca1f7f70>"
      ]
     },
     "execution_count": 16,
     "metadata": {},
     "output_type": "execute_result"
    },
    {
     "data": {
      "image/png": "[encoded data removed]",
      "text/plain": [
       "<Figure size 1080x720 with 1 Axes>"
      ]
     },
     "metadata": {
      "needs_background": "light"
     },
     "output_type": "display_data"
    }
   ],
   "source": [
    "reorder_list=['I have never written code','< 1 years','1-2 years','3-5 years','5-10 years','10-20 years','20+ years']\n",
    "bachelor_maas_by_code_experience=deneme[deneme['Education']==\"Bachelor’s degree\"]\n",
    "bachelor_maas_by_code_experience=bachelor_maas_by_code_experience.groupby('Coding Experience').mean().reindex(reorder_list)\n",
    "master_maas_by_code_experience=deneme[deneme['Education']==\"Master’s degree\"]\n",
    "master_maas_by_code_experience=master_maas_by_code_experience.groupby('Coding Experience').mean().reindex(reorder_list)\n",
    "phd_maas_by_code_experience=deneme[deneme['Education']==\"Doctoral degree\"]\n",
    "phd_maas_by_code_experience=phd_maas_by_code_experience.groupby('Coding Experience').mean().reindex(reorder_list)\n",
    "plt.figure(figsize=(15, 10))\n",
    "plt.plot(bachelor_maas_by_code_experience,label='Bachelor Degree')\n",
    "plt.plot(master_maas_by_code_experience,label=\"Master Degree\")\n",
    "plt.plot(phd_maas_by_code_experience,label='Doctoral Degree')\n",
    "plt.legend()\n"
   ]
  },
  {
   "cell_type": "markdown",
   "metadata": {},
   "source": [
    "## Soru 10:\n",
    "* Mesleklerdeki (```Occupation```) cinsiyet dağılımını, yatay yığılmış \"stacked\" sütun grafik olarak gösteriniz.\n",
    "* Her meslek (```Occupation```) için kadın oranını bulup büyükten küçüğe sıralayınız.\n",
    "* Şu anda çalışmayan kadın ve erkek oranlarını listeleyiniz."
   ]
  },
  {
   "cell_type": "code",
   "execution_count": 17,
   "metadata": {},
   "outputs": [
    {
     "data": {
      "text/plain": [
       "<AxesSubplot:ylabel='Occupation'>"
      ]
     },
     "execution_count": 17,
     "metadata": {},
     "output_type": "execute_result"
    },
    {
     "data": {
      "image/png": "[encoded data removed]",
      "text/plain": [
       "<Figure size 432x288 with 1 Axes>"
      ]
     },
     "metadata": {
      "needs_background": "light"
     },
     "output_type": "display_data"
    }
   ],
   "source": [
    "survey.groupby(['Occupation', 'Gender']).size().unstack().fillna(0).plot(kind='barh', stacked=True)"
   ]
  },
  {
   "cell_type": "code",
   "execution_count": 18,
   "metadata": {
    "scrolled": true
   },
   "outputs": [
    {
     "data": {
      "text/plain": [
       "Student                      0.240296\n",
       "Statistician                 0.236934\n",
       "Data Analyst                 0.235415\n",
       "Currently not employed       0.226748\n",
       "Research Scientist           0.203085\n",
       "Business Analyst             0.193384\n",
       "Other                        0.168023\n",
       "Data Scientist               0.164347\n",
       "Data Engineer                0.138889\n",
       "Software Engineer            0.132721\n",
       "DBA/Database Engineer        0.128000\n",
       "Machine Learning Engineer    0.126168\n",
       "Product/Project Manager      0.113703\n",
       "Name: Occupation, dtype: float64"
      ]
     },
     "execution_count": 18,
     "metadata": {},
     "output_type": "execute_result"
    }
   ],
   "source": [
    "woman_percentage=survey[survey['Gender']=='Woman']\n",
    "woman_statistics=woman_percentage.Occupation.value_counts()/survey.Occupation.value_counts()\n",
    "woman_statistics.sort_values(ascending=False)"
   ]
  },
  {
   "cell_type": "code",
   "execution_count": 19,
   "metadata": {},
   "outputs": [
    {
     "data": {
      "text/plain": [
       "Man      0.081529\n",
       "Woman    0.101359\n",
       "Name: Gender, dtype: float64"
      ]
     },
     "execution_count": 19,
     "metadata": {},
     "output_type": "execute_result"
    }
   ],
   "source": [
    "not_employed=survey[survey['Occupation']=='Currently not employed']\n",
    "not_employed=not_employed[(not_employed['Gender']=='Man')|(not_employed['Gender']=='Woman')]\n",
    "man_woman=survey[(survey['Gender']=='Man')|(survey['Gender']=='Woman')]\n",
    "not_employed['Gender'].value_counts()/man_woman['Gender'].value_counts()"
   ]
  },
  {
   "cell_type": "markdown",
   "metadata": {},
   "source": [
    "## Soru 11:\n",
    "\n",
    "Ankete katılan kadınlardan ortalama çalışma süresi 3 yılın üzerinde olanlar için:\n",
    "* Kadın katılımcı sayısının en yüksek olduğu ülke hangisidir?\n",
    "* Türkiye'den ankete katılan kadınların eğitim durumlarını pasta grafiğinde gösteriniz."
   ]
  },
  {
   "cell_type": "code",
   "execution_count": 20,
   "metadata": {},
   "outputs": [
    {
     "data": {
      "text/html": [
       "<div>\n",
       "<style scoped>\n",
       "    .dataframe tbody tr th:only-of-type {\n",
       "        vertical-align: middle;\n",
       "    }\n",
       "\n",
       "    .dataframe tbody tr th {\n",
       "        vertical-align: top;\n",
       "    }\n",
       "\n",
       "    .dataframe thead th {\n",
       "        text-align: right;\n",
       "    }\n",
       "</style>\n",
       "<table border=\"1\" class=\"dataframe\">\n",
       "  <thead>\n",
       "    <tr style=\"text-align: right;\">\n",
       "      <th></th>\n",
       "      <th>Country</th>\n",
       "    </tr>\n",
       "  </thead>\n",
       "  <tbody>\n",
       "    <tr>\n",
       "      <th>0</th>\n",
       "      <td>India</td>\n",
       "    </tr>\n",
       "  </tbody>\n",
       "</table>\n",
       "</div>"
      ],
      "text/plain": [
       "  Country\n",
       "0   India"
      ]
     },
     "metadata": {},
     "output_type": "display_data"
    }
   ],
   "source": [
    "woman_survey=survey[survey['Gender']=='Woman']\n",
    "woman_survey=woman_survey[(woman_survey['Coding Experience']=='3-5 years')|(woman_survey['Coding Experience']=='5-10 years')|(woman_survey['Coding Experience']=='10-20 years')|(woman_survey['Coding Experience']=='20+ years')]\n",
    "woman_survey_mode=woman_survey.filter(['Country'])\n",
    "display(woman_survey_mode.mode())"
   ]
  },
  {
   "cell_type": "code",
   "execution_count": 21,
   "metadata": {},
   "outputs": [
    {
     "data": {
      "text/plain": [
       "<AxesSubplot:ylabel='Education'>"
      ]
     },
     "execution_count": 21,
     "metadata": {},
     "output_type": "execute_result"
    },
    {
     "data": {
      "image/png": "[encoded data removed]",
      "text/plain": [
       "<Figure size 432x288 with 1 Axes>"
      ]
     },
     "metadata": {},
     "output_type": "display_data"
    }
   ],
   "source": [
    "Turkish_women=woman_survey[(woman_survey['Country']=='Turkey')]\n",
    "Turkish_women.Education.value_counts().plot(kind='pie',autopct='%1.1f%%')"
   ]
  },
  {
   "cell_type": "markdown",
   "metadata": {},
   "source": [
    "## Soru 12:\n",
    "* 39. soru ile ilgili sütunlarda yer alan değerlerdeki parantez içi ifadeleri siliniz.\n",
    "* 18-21 yaş aralığında olan katılımcıların favori sosyal medya platformu nedir?"
   ]
  },
  {
   "cell_type": "code",
   "execution_count": 22,
   "metadata": {
    "scrolled": false
   },
   "outputs": [
    {
     "name": "stderr",
     "output_type": "stream",
     "text": [
      "<ipython-input-22-9558191de7c1>:3: FutureWarning: The default value of regex will change from True to False in a future version.\n",
      "  social_media['Q39_Part_1'] = social_media['Q39_Part_1'].str.replace(r\"\\(.*\\)\",\"\")\n",
      "<ipython-input-22-9558191de7c1>:4: FutureWarning: The default value of regex will change from True to False in a future version.\n",
      "  social_media['Q39_Part_2'] = social_media['Q39_Part_2'].str.replace(r\"\\(.*\\)\",\"\")\n",
      "<ipython-input-22-9558191de7c1>:5: FutureWarning: The default value of regex will change from True to False in a future version.\n",
      "  social_media['Q39_Part_3'] = social_media['Q39_Part_3'].str.replace(r\"\\(.*\\)\",\"\")\n",
      "<ipython-input-22-9558191de7c1>:6: FutureWarning: The default value of regex will change from True to False in a future version.\n",
      "  social_media['Q39_Part_4'] = social_media['Q39_Part_4'].str.replace(r\"\\(.*\\)\",\"\")\n",
      "<ipython-input-22-9558191de7c1>:7: FutureWarning: The default value of regex will change from True to False in a future version.\n",
      "  social_media['Q39_Part_5'] = social_media['Q39_Part_5'].str.replace(r\"\\(.*\\)\",\"\")\n",
      "<ipython-input-22-9558191de7c1>:8: FutureWarning: The default value of regex will change from True to False in a future version.\n",
      "  social_media['Q39_Part_6'] = social_media['Q39_Part_6'].str.replace(r\"\\(.*\\)\",\"\")\n",
      "<ipython-input-22-9558191de7c1>:9: FutureWarning: The default value of regex will change from True to False in a future version.\n",
      "  social_media['Q39_Part_7'] = social_media['Q39_Part_7'].str.replace(r\"\\(.*\\)\",\"\")\n",
      "<ipython-input-22-9558191de7c1>:10: FutureWarning: The default value of regex will change from True to False in a future version.\n",
      "  social_media['Q39_Part_8'] = social_media['Q39_Part_8'].str.replace(r\"\\(.*\\)\",\"\")\n",
      "<ipython-input-22-9558191de7c1>:11: FutureWarning: The default value of regex will change from True to False in a future version.\n",
      "  social_media['Q39_Part_9'] = social_media['Q39_Part_9'].str.replace(r\"\\(.*\\)\",\"\")\n",
      "<ipython-input-22-9558191de7c1>:12: FutureWarning: The default value of regex will change from True to False in a future version.\n",
      "  social_media['Q39_Part_10'] = social_media['Q39_Part_10'].str.replace(r\"\\(.*\\)\",\"\")\n",
      "<ipython-input-22-9558191de7c1>:13: FutureWarning: The default value of regex will change from True to False in a future version.\n",
      "  social_media['Q39_Part_11'] = social_media['Q39_Part_11'].str.replace(r\"\\(.*\\)\",\"\")\n",
      "<ipython-input-22-9558191de7c1>:14: FutureWarning: The default value of regex will change from True to False in a future version.\n",
      "  social_media['Q39_OTHER'] = social_media['Q39_OTHER'].str.replace(r\"\\(.*\\)\",\"\")\n"
     ]
    },
    {
     "data": {
      "text/html": [
       "<div>\n",
       "<style scoped>\n",
       "    .dataframe tbody tr th:only-of-type {\n",
       "        vertical-align: middle;\n",
       "    }\n",
       "\n",
       "    .dataframe tbody tr th {\n",
       "        vertical-align: top;\n",
       "    }\n",
       "\n",
       "    .dataframe thead th {\n",
       "        text-align: right;\n",
       "    }\n",
       "</style>\n",
       "<table border=\"1\" class=\"dataframe\">\n",
       "  <thead>\n",
       "    <tr style=\"text-align: right;\">\n",
       "      <th></th>\n",
       "      <th>Age</th>\n",
       "      <th>Q39_Part_1</th>\n",
       "      <th>Q39_Part_2</th>\n",
       "      <th>Q39_Part_3</th>\n",
       "      <th>Q39_Part_4</th>\n",
       "      <th>Q39_Part_5</th>\n",
       "      <th>Q39_Part_6</th>\n",
       "      <th>Q39_Part_7</th>\n",
       "      <th>Q39_Part_8</th>\n",
       "      <th>Q39_Part_9</th>\n",
       "      <th>Q39_Part_10</th>\n",
       "      <th>Q39_Part_11</th>\n",
       "      <th>Q39_OTHER</th>\n",
       "    </tr>\n",
       "  </thead>\n",
       "  <tbody>\n",
       "    <tr>\n",
       "      <th>0</th>\n",
       "      <td>35-39</td>\n",
       "      <td>NaN</td>\n",
       "      <td>NaN</td>\n",
       "      <td>NaN</td>\n",
       "      <td>Kaggle</td>\n",
       "      <td>NaN</td>\n",
       "      <td>NaN</td>\n",
       "      <td>NaN</td>\n",
       "      <td>NaN</td>\n",
       "      <td>Journal Publications</td>\n",
       "      <td>NaN</td>\n",
       "      <td>NaN</td>\n",
       "      <td>NaN</td>\n",
       "    </tr>\n",
       "    <tr>\n",
       "      <th>1</th>\n",
       "      <td>30-34</td>\n",
       "      <td>Twitter</td>\n",
       "      <td>NaN</td>\n",
       "      <td>Reddit</td>\n",
       "      <td>Kaggle</td>\n",
       "      <td>Course Forums</td>\n",
       "      <td>YouTube</td>\n",
       "      <td>NaN</td>\n",
       "      <td>Blogs</td>\n",
       "      <td>NaN</td>\n",
       "      <td>Slack Communities</td>\n",
       "      <td>NaN</td>\n",
       "      <td>NaN</td>\n",
       "    </tr>\n",
       "    <tr>\n",
       "      <th>2</th>\n",
       "      <td>35-39</td>\n",
       "      <td>NaN</td>\n",
       "      <td>Email newsletters</td>\n",
       "      <td>NaN</td>\n",
       "      <td>Kaggle</td>\n",
       "      <td>NaN</td>\n",
       "      <td>YouTube</td>\n",
       "      <td>NaN</td>\n",
       "      <td>NaN</td>\n",
       "      <td>NaN</td>\n",
       "      <td>NaN</td>\n",
       "      <td>NaN</td>\n",
       "      <td>NaN</td>\n",
       "    </tr>\n",
       "    <tr>\n",
       "      <th>3</th>\n",
       "      <td>30-34</td>\n",
       "      <td>NaN</td>\n",
       "      <td>NaN</td>\n",
       "      <td>NaN</td>\n",
       "      <td>NaN</td>\n",
       "      <td>NaN</td>\n",
       "      <td>NaN</td>\n",
       "      <td>NaN</td>\n",
       "      <td>NaN</td>\n",
       "      <td>NaN</td>\n",
       "      <td>NaN</td>\n",
       "      <td>None</td>\n",
       "      <td>NaN</td>\n",
       "    </tr>\n",
       "    <tr>\n",
       "      <th>4</th>\n",
       "      <td>30-34</td>\n",
       "      <td>NaN</td>\n",
       "      <td>NaN</td>\n",
       "      <td>NaN</td>\n",
       "      <td>NaN</td>\n",
       "      <td>NaN</td>\n",
       "      <td>NaN</td>\n",
       "      <td>NaN</td>\n",
       "      <td>NaN</td>\n",
       "      <td>NaN</td>\n",
       "      <td>NaN</td>\n",
       "      <td>NaN</td>\n",
       "      <td>NaN</td>\n",
       "    </tr>\n",
       "    <tr>\n",
       "      <th>...</th>\n",
       "      <td>...</td>\n",
       "      <td>...</td>\n",
       "      <td>...</td>\n",
       "      <td>...</td>\n",
       "      <td>...</td>\n",
       "      <td>...</td>\n",
       "      <td>...</td>\n",
       "      <td>...</td>\n",
       "      <td>...</td>\n",
       "      <td>...</td>\n",
       "      <td>...</td>\n",
       "      <td>...</td>\n",
       "      <td>...</td>\n",
       "    </tr>\n",
       "    <tr>\n",
       "      <th>19115</th>\n",
       "      <td>35-39</td>\n",
       "      <td>NaN</td>\n",
       "      <td>NaN</td>\n",
       "      <td>NaN</td>\n",
       "      <td>NaN</td>\n",
       "      <td>NaN</td>\n",
       "      <td>YouTube</td>\n",
       "      <td>NaN</td>\n",
       "      <td>NaN</td>\n",
       "      <td>NaN</td>\n",
       "      <td>NaN</td>\n",
       "      <td>NaN</td>\n",
       "      <td>NaN</td>\n",
       "    </tr>\n",
       "    <tr>\n",
       "      <th>19116</th>\n",
       "      <td>55-59</td>\n",
       "      <td>NaN</td>\n",
       "      <td>NaN</td>\n",
       "      <td>NaN</td>\n",
       "      <td>NaN</td>\n",
       "      <td>NaN</td>\n",
       "      <td>NaN</td>\n",
       "      <td>NaN</td>\n",
       "      <td>NaN</td>\n",
       "      <td>NaN</td>\n",
       "      <td>NaN</td>\n",
       "      <td>None</td>\n",
       "      <td>NaN</td>\n",
       "    </tr>\n",
       "    <tr>\n",
       "      <th>19117</th>\n",
       "      <td>30-34</td>\n",
       "      <td>NaN</td>\n",
       "      <td>NaN</td>\n",
       "      <td>NaN</td>\n",
       "      <td>NaN</td>\n",
       "      <td>NaN</td>\n",
       "      <td>NaN</td>\n",
       "      <td>NaN</td>\n",
       "      <td>NaN</td>\n",
       "      <td>NaN</td>\n",
       "      <td>NaN</td>\n",
       "      <td>NaN</td>\n",
       "      <td>NaN</td>\n",
       "    </tr>\n",
       "    <tr>\n",
       "      <th>19118</th>\n",
       "      <td>22-24</td>\n",
       "      <td>Twitter</td>\n",
       "      <td>NaN</td>\n",
       "      <td>NaN</td>\n",
       "      <td>Kaggle</td>\n",
       "      <td>NaN</td>\n",
       "      <td>YouTube</td>\n",
       "      <td>NaN</td>\n",
       "      <td>Blogs</td>\n",
       "      <td>NaN</td>\n",
       "      <td>NaN</td>\n",
       "      <td>NaN</td>\n",
       "      <td>NaN</td>\n",
       "    </tr>\n",
       "    <tr>\n",
       "      <th>19119</th>\n",
       "      <td>22-24</td>\n",
       "      <td>NaN</td>\n",
       "      <td>NaN</td>\n",
       "      <td>NaN</td>\n",
       "      <td>Kaggle</td>\n",
       "      <td>Course Forums</td>\n",
       "      <td>YouTube</td>\n",
       "      <td>Podcasts</td>\n",
       "      <td>Blogs</td>\n",
       "      <td>NaN</td>\n",
       "      <td>NaN</td>\n",
       "      <td>NaN</td>\n",
       "      <td>NaN</td>\n",
       "    </tr>\n",
       "  </tbody>\n",
       "</table>\n",
       "<p>19120 rows × 13 columns</p>\n",
       "</div>"
      ],
      "text/plain": [
       "         Age Q39_Part_1          Q39_Part_2 Q39_Part_3 Q39_Part_4  \\\n",
       "0      35-39        NaN                 NaN        NaN    Kaggle    \n",
       "1      30-34   Twitter                  NaN    Reddit     Kaggle    \n",
       "2      35-39        NaN  Email newsletters         NaN    Kaggle    \n",
       "3      30-34        NaN                 NaN        NaN        NaN   \n",
       "4      30-34        NaN                 NaN        NaN        NaN   \n",
       "...      ...        ...                 ...        ...        ...   \n",
       "19115  35-39        NaN                 NaN        NaN        NaN   \n",
       "19116  55-59        NaN                 NaN        NaN        NaN   \n",
       "19117  30-34        NaN                 NaN        NaN        NaN   \n",
       "19118  22-24   Twitter                  NaN        NaN    Kaggle    \n",
       "19119  22-24        NaN                 NaN        NaN    Kaggle    \n",
       "\n",
       "           Q39_Part_5 Q39_Part_6 Q39_Part_7 Q39_Part_8             Q39_Part_9  \\\n",
       "0                 NaN        NaN        NaN        NaN  Journal Publications    \n",
       "1      Course Forums    YouTube         NaN     Blogs                     NaN   \n",
       "2                 NaN   YouTube         NaN        NaN                    NaN   \n",
       "3                 NaN        NaN        NaN        NaN                    NaN   \n",
       "4                 NaN        NaN        NaN        NaN                    NaN   \n",
       "...               ...        ...        ...        ...                    ...   \n",
       "19115             NaN   YouTube         NaN        NaN                    NaN   \n",
       "19116             NaN        NaN        NaN        NaN                    NaN   \n",
       "19117             NaN        NaN        NaN        NaN                    NaN   \n",
       "19118             NaN   YouTube         NaN     Blogs                     NaN   \n",
       "19119  Course Forums    YouTube   Podcasts      Blogs                     NaN   \n",
       "\n",
       "              Q39_Part_10 Q39_Part_11 Q39_OTHER  \n",
       "0                     NaN         NaN       NaN  \n",
       "1      Slack Communities          NaN       NaN  \n",
       "2                     NaN         NaN       NaN  \n",
       "3                     NaN        None       NaN  \n",
       "4                     NaN         NaN       NaN  \n",
       "...                   ...         ...       ...  \n",
       "19115                 NaN         NaN       NaN  \n",
       "19116                 NaN        None       NaN  \n",
       "19117                 NaN         NaN       NaN  \n",
       "19118                 NaN         NaN       NaN  \n",
       "19119                 NaN         NaN       NaN  \n",
       "\n",
       "[19120 rows x 13 columns]"
      ]
     },
     "execution_count": 22,
     "metadata": {},
     "output_type": "execute_result"
    }
   ],
   "source": [
    "social_media=survey.filter(['Age','Q39_Part_1','Q39_Part_2','Q39_Part_3','Q39_Part_4','Q39_Part_5','Q39_Part_6','Q39_Part_7','Q39_Part_8',\n",
    "               'Q39_Part_9','Q39_Part_10','Q39_Part_11','Q39_OTHER'])\n",
    "social_media['Q39_Part_1'] = social_media['Q39_Part_1'].str.replace(r\"\\(.*\\)\",\"\")\n",
    "social_media['Q39_Part_2'] = social_media['Q39_Part_2'].str.replace(r\"\\(.*\\)\",\"\")\n",
    "social_media['Q39_Part_3'] = social_media['Q39_Part_3'].str.replace(r\"\\(.*\\)\",\"\")\n",
    "social_media['Q39_Part_4'] = social_media['Q39_Part_4'].str.replace(r\"\\(.*\\)\",\"\")\n",
    "social_media['Q39_Part_5'] = social_media['Q39_Part_5'].str.replace(r\"\\(.*\\)\",\"\")\n",
    "social_media['Q39_Part_6'] = social_media['Q39_Part_6'].str.replace(r\"\\(.*\\)\",\"\")\n",
    "social_media['Q39_Part_7'] = social_media['Q39_Part_7'].str.replace(r\"\\(.*\\)\",\"\")\n",
    "social_media['Q39_Part_8'] = social_media['Q39_Part_8'].str.replace(r\"\\(.*\\)\",\"\")\n",
    "social_media['Q39_Part_9'] = social_media['Q39_Part_9'].str.replace(r\"\\(.*\\)\",\"\")\n",
    "social_media['Q39_Part_10'] = social_media['Q39_Part_10'].str.replace(r\"\\(.*\\)\",\"\")\n",
    "social_media['Q39_Part_11'] = social_media['Q39_Part_11'].str.replace(r\"\\(.*\\)\",\"\")\n",
    "social_media['Q39_OTHER'] = social_media['Q39_OTHER'].str.replace(r\"\\(.*\\)\",\"\")\n",
    "social_media"
   ]
  },
  {
   "cell_type": "code",
   "execution_count": 23,
   "metadata": {},
   "outputs": [
    {
     "data": {
      "text/plain": [
       "Kaggle    1062\n",
       "dtype: int64"
      ]
     },
     "execution_count": 23,
     "metadata": {},
     "output_type": "execute_result"
    }
   ],
   "source": [
    "social_media=social_media[social_media['Age']=='18-21']\n",
    "social_media=social_media.filter(['Q39_Part_1','Q39_Part_2','Q39_Part_3','Q39_Part_4','Q39_Part_5','Q39_Part_6','Q39_Part_7','Q39_Part_8',\n",
    "               'Q39_Part_9','Q39_Part_10','Q39_Part_11','Q39_OTHER'])\n",
    "social_media=social_media.rename(columns={'Q39_Part_1':'Twitter','Q39_Part_2':'Email newsletters','Q39_Part_3':'Reddit ','Q39_Part_4':'Kaggle','Q39_Part_5':'Course Forums',\n",
    "'Q39_Part_6':'YouTube','Q39_Part_7':'Podcast','Q39_Part_8':'Blogs','Q39_Part_9':'Journal Publications',\n",
    "                  'Q39_Part_10':'Slack Communities','Q39_Part_11':'None','Q39_OTHER':'Other'})\n",
    "social_media.count().sort_values(ascending=False).head(1)"
   ]
  },
  {
   "cell_type": "markdown",
   "metadata": {},
   "source": [
    "## Soru 13:\n",
    "* https://download.geonames.org/export/dump/countryInfo.txt adresindeki veriyi:\n",
    "    * ilk 49 satırını ihmal ederek\n",
    "    * yalnızca ```#ISO, Country, neighbours``` sütunlarını kullanarak \n",
    "    * ```Country``` sütununu indeks sütun olarak  \n",
    "    \n",
    "okuyarak __country_info__ adlı DataFrame'e aktarınız.\n",
    "* ```#ISO``` sütununun ismini ```Country Code``` olarak değiştiriniz.\n",
    "* ```survey``` ve ```country_info``` adlı DataFrame'leri ülke bazında birleştirip ```merged_survey``` adında yeni bir dataframe'e aktarınız."
   ]
  },
  {
   "cell_type": "code",
   "execution_count": 24,
   "metadata": {},
   "outputs": [
    {
     "data": {
      "text/html": [
       "<div>\n",
       "<style scoped>\n",
       "    .dataframe tbody tr th:only-of-type {\n",
       "        vertical-align: middle;\n",
       "    }\n",
       "\n",
       "    .dataframe tbody tr th {\n",
       "        vertical-align: top;\n",
       "    }\n",
       "\n",
       "    .dataframe thead th {\n",
       "        text-align: right;\n",
       "    }\n",
       "</style>\n",
       "<table border=\"1\" class=\"dataframe\">\n",
       "  <thead>\n",
       "    <tr style=\"text-align: right;\">\n",
       "      <th></th>\n",
       "      <th>Country</th>\n",
       "      <th>Country Code</th>\n",
       "      <th>neighbours</th>\n",
       "      <th>Age</th>\n",
       "      <th>Gender</th>\n",
       "      <th>Education</th>\n",
       "      <th>Occupation</th>\n",
       "      <th>Coding Experience</th>\n",
       "      <th>Q7_Part_1</th>\n",
       "      <th>Q7_Part_2</th>\n",
       "      <th>...</th>\n",
       "      <th>Q35_B_Part_2</th>\n",
       "      <th>Q35_B_Part_3</th>\n",
       "      <th>Q35_B_Part_4</th>\n",
       "      <th>Q35_B_Part_5</th>\n",
       "      <th>Q35_B_Part_6</th>\n",
       "      <th>Q35_B_Part_7</th>\n",
       "      <th>Q35_B_Part_8</th>\n",
       "      <th>Q35_B_Part_9</th>\n",
       "      <th>Q35_B_Part_10</th>\n",
       "      <th>Q35_B_OTHER</th>\n",
       "    </tr>\n",
       "  </thead>\n",
       "  <tbody>\n",
       "    <tr>\n",
       "      <th>0</th>\n",
       "      <td>Colombia</td>\n",
       "      <td>CO</td>\n",
       "      <td>EC,PE,PA,BR,VE</td>\n",
       "      <td>35-39</td>\n",
       "      <td>Man</td>\n",
       "      <td>Doctoral degree</td>\n",
       "      <td>Student</td>\n",
       "      <td>5-10 years</td>\n",
       "      <td>Python</td>\n",
       "      <td>R</td>\n",
       "      <td>...</td>\n",
       "      <td>NaN</td>\n",
       "      <td>NaN</td>\n",
       "      <td>NaN</td>\n",
       "      <td>TensorBoard</td>\n",
       "      <td>NaN</td>\n",
       "      <td>NaN</td>\n",
       "      <td>NaN</td>\n",
       "      <td>NaN</td>\n",
       "      <td>NaN</td>\n",
       "      <td>NaN</td>\n",
       "    </tr>\n",
       "    <tr>\n",
       "      <th>1</th>\n",
       "      <td>United States of America</td>\n",
       "      <td>NaN</td>\n",
       "      <td>NaN</td>\n",
       "      <td>30-34</td>\n",
       "      <td>Man</td>\n",
       "      <td>Master’s degree</td>\n",
       "      <td>Data Engineer</td>\n",
       "      <td>5-10 years</td>\n",
       "      <td>Python</td>\n",
       "      <td>R</td>\n",
       "      <td>...</td>\n",
       "      <td>NaN</td>\n",
       "      <td>NaN</td>\n",
       "      <td>NaN</td>\n",
       "      <td>NaN</td>\n",
       "      <td>NaN</td>\n",
       "      <td>NaN</td>\n",
       "      <td>NaN</td>\n",
       "      <td>NaN</td>\n",
       "      <td>NaN</td>\n",
       "      <td>NaN</td>\n",
       "    </tr>\n",
       "    <tr>\n",
       "      <th>2</th>\n",
       "      <td>Argentina</td>\n",
       "      <td>AR</td>\n",
       "      <td>CL,BO,UY,PY,BR</td>\n",
       "      <td>35-39</td>\n",
       "      <td>Man</td>\n",
       "      <td>Bachelor’s degree</td>\n",
       "      <td>Software Engineer</td>\n",
       "      <td>10-20 years</td>\n",
       "      <td>NaN</td>\n",
       "      <td>NaN</td>\n",
       "      <td>...</td>\n",
       "      <td>NaN</td>\n",
       "      <td>NaN</td>\n",
       "      <td>NaN</td>\n",
       "      <td>NaN</td>\n",
       "      <td>NaN</td>\n",
       "      <td>NaN</td>\n",
       "      <td>NaN</td>\n",
       "      <td>NaN</td>\n",
       "      <td>None</td>\n",
       "      <td>NaN</td>\n",
       "    </tr>\n",
       "    <tr>\n",
       "      <th>3</th>\n",
       "      <td>United States of America</td>\n",
       "      <td>NaN</td>\n",
       "      <td>NaN</td>\n",
       "      <td>30-34</td>\n",
       "      <td>Man</td>\n",
       "      <td>Master’s degree</td>\n",
       "      <td>Data Scientist</td>\n",
       "      <td>5-10 years</td>\n",
       "      <td>Python</td>\n",
       "      <td>NaN</td>\n",
       "      <td>...</td>\n",
       "      <td>NaN</td>\n",
       "      <td>NaN</td>\n",
       "      <td>NaN</td>\n",
       "      <td>NaN</td>\n",
       "      <td>NaN</td>\n",
       "      <td>NaN</td>\n",
       "      <td>NaN</td>\n",
       "      <td>NaN</td>\n",
       "      <td>NaN</td>\n",
       "      <td>NaN</td>\n",
       "    </tr>\n",
       "    <tr>\n",
       "      <th>4</th>\n",
       "      <td>Japan</td>\n",
       "      <td>JP</td>\n",
       "      <td>NaN</td>\n",
       "      <td>30-34</td>\n",
       "      <td>Man</td>\n",
       "      <td>Master’s degree</td>\n",
       "      <td>Software Engineer</td>\n",
       "      <td>3-5 years</td>\n",
       "      <td>Python</td>\n",
       "      <td>NaN</td>\n",
       "      <td>...</td>\n",
       "      <td>NaN</td>\n",
       "      <td>NaN</td>\n",
       "      <td>NaN</td>\n",
       "      <td>NaN</td>\n",
       "      <td>NaN</td>\n",
       "      <td>NaN</td>\n",
       "      <td>NaN</td>\n",
       "      <td>NaN</td>\n",
       "      <td>NaN</td>\n",
       "      <td>NaN</td>\n",
       "    </tr>\n",
       "    <tr>\n",
       "      <th>...</th>\n",
       "      <td>...</td>\n",
       "      <td>...</td>\n",
       "      <td>...</td>\n",
       "      <td>...</td>\n",
       "      <td>...</td>\n",
       "      <td>...</td>\n",
       "      <td>...</td>\n",
       "      <td>...</td>\n",
       "      <td>...</td>\n",
       "      <td>...</td>\n",
       "      <td>...</td>\n",
       "      <td>...</td>\n",
       "      <td>...</td>\n",
       "      <td>...</td>\n",
       "      <td>...</td>\n",
       "      <td>...</td>\n",
       "      <td>...</td>\n",
       "      <td>...</td>\n",
       "      <td>...</td>\n",
       "      <td>...</td>\n",
       "      <td>...</td>\n",
       "    </tr>\n",
       "    <tr>\n",
       "      <th>19115</th>\n",
       "      <td>Thailand</td>\n",
       "      <td>TH</td>\n",
       "      <td>LA,MM,KH,MY</td>\n",
       "      <td>35-39</td>\n",
       "      <td>Man</td>\n",
       "      <td>Bachelor’s degree</td>\n",
       "      <td>Other</td>\n",
       "      <td>10-20 years</td>\n",
       "      <td>NaN</td>\n",
       "      <td>NaN</td>\n",
       "      <td>...</td>\n",
       "      <td>NaN</td>\n",
       "      <td>NaN</td>\n",
       "      <td>NaN</td>\n",
       "      <td>NaN</td>\n",
       "      <td>NaN</td>\n",
       "      <td>NaN</td>\n",
       "      <td>NaN</td>\n",
       "      <td>NaN</td>\n",
       "      <td>None</td>\n",
       "      <td>NaN</td>\n",
       "    </tr>\n",
       "    <tr>\n",
       "      <th>19116</th>\n",
       "      <td>United Kingdom of Great Britain and Northern I...</td>\n",
       "      <td>NaN</td>\n",
       "      <td>NaN</td>\n",
       "      <td>55-59</td>\n",
       "      <td>Woman</td>\n",
       "      <td>Master’s degree</td>\n",
       "      <td>Currently not employed</td>\n",
       "      <td>20+ years</td>\n",
       "      <td>Python</td>\n",
       "      <td>NaN</td>\n",
       "      <td>...</td>\n",
       "      <td>NaN</td>\n",
       "      <td>NaN</td>\n",
       "      <td>NaN</td>\n",
       "      <td>NaN</td>\n",
       "      <td>NaN</td>\n",
       "      <td>NaN</td>\n",
       "      <td>NaN</td>\n",
       "      <td>NaN</td>\n",
       "      <td>None</td>\n",
       "      <td>NaN</td>\n",
       "    </tr>\n",
       "    <tr>\n",
       "      <th>19117</th>\n",
       "      <td>Brazil</td>\n",
       "      <td>BR</td>\n",
       "      <td>SR,PE,BO,UY,GY,PY,GF,VE,CO,AR</td>\n",
       "      <td>30-34</td>\n",
       "      <td>Man</td>\n",
       "      <td>Master’s degree</td>\n",
       "      <td>Research Scientist</td>\n",
       "      <td>&lt; 1 years</td>\n",
       "      <td>Python</td>\n",
       "      <td>NaN</td>\n",
       "      <td>...</td>\n",
       "      <td>NaN</td>\n",
       "      <td>NaN</td>\n",
       "      <td>NaN</td>\n",
       "      <td>NaN</td>\n",
       "      <td>NaN</td>\n",
       "      <td>NaN</td>\n",
       "      <td>NaN</td>\n",
       "      <td>NaN</td>\n",
       "      <td>NaN</td>\n",
       "      <td>NaN</td>\n",
       "    </tr>\n",
       "    <tr>\n",
       "      <th>19118</th>\n",
       "      <td>India</td>\n",
       "      <td>IN</td>\n",
       "      <td>CN,NP,MM,BT,PK,BD</td>\n",
       "      <td>22-24</td>\n",
       "      <td>Man</td>\n",
       "      <td>Bachelor’s degree</td>\n",
       "      <td>Software Engineer</td>\n",
       "      <td>3-5 years</td>\n",
       "      <td>Python</td>\n",
       "      <td>NaN</td>\n",
       "      <td>...</td>\n",
       "      <td>Weights &amp; Biases</td>\n",
       "      <td>NaN</td>\n",
       "      <td>NaN</td>\n",
       "      <td>TensorBoard</td>\n",
       "      <td>NaN</td>\n",
       "      <td>NaN</td>\n",
       "      <td>Trains</td>\n",
       "      <td>NaN</td>\n",
       "      <td>NaN</td>\n",
       "      <td>NaN</td>\n",
       "    </tr>\n",
       "    <tr>\n",
       "      <th>19119</th>\n",
       "      <td>Pakistan</td>\n",
       "      <td>PK</td>\n",
       "      <td>CN,AF,IR,IN</td>\n",
       "      <td>22-24</td>\n",
       "      <td>Man</td>\n",
       "      <td>Master’s degree</td>\n",
       "      <td>Machine Learning Engineer</td>\n",
       "      <td>&lt; 1 years</td>\n",
       "      <td>Python</td>\n",
       "      <td>NaN</td>\n",
       "      <td>...</td>\n",
       "      <td>Weights &amp; Biases</td>\n",
       "      <td>NaN</td>\n",
       "      <td>NaN</td>\n",
       "      <td>NaN</td>\n",
       "      <td>NaN</td>\n",
       "      <td>NaN</td>\n",
       "      <td>Trains</td>\n",
       "      <td>NaN</td>\n",
       "      <td>NaN</td>\n",
       "      <td>NaN</td>\n",
       "    </tr>\n",
       "  </tbody>\n",
       "</table>\n",
       "<p>19120 rows × 356 columns</p>\n",
       "</div>"
      ],
      "text/plain": [
       "                                                 Country Country Code  \\\n",
       "0                                               Colombia           CO   \n",
       "1                               United States of America          NaN   \n",
       "2                                              Argentina           AR   \n",
       "3                               United States of America          NaN   \n",
       "4                                                  Japan           JP   \n",
       "...                                                  ...          ...   \n",
       "19115                                           Thailand           TH   \n",
       "19116  United Kingdom of Great Britain and Northern I...          NaN   \n",
       "19117                                             Brazil           BR   \n",
       "19118                                              India           IN   \n",
       "19119                                           Pakistan           PK   \n",
       "\n",
       "                          neighbours    Age Gender          Education  \\\n",
       "0                     EC,PE,PA,BR,VE  35-39    Man    Doctoral degree   \n",
       "1                                NaN  30-34    Man    Master’s degree   \n",
       "2                     CL,BO,UY,PY,BR  35-39    Man  Bachelor’s degree   \n",
       "3                                NaN  30-34    Man    Master’s degree   \n",
       "4                                NaN  30-34    Man    Master’s degree   \n",
       "...                              ...    ...    ...                ...   \n",
       "19115                    LA,MM,KH,MY  35-39    Man  Bachelor’s degree   \n",
       "19116                            NaN  55-59  Woman    Master’s degree   \n",
       "19117  SR,PE,BO,UY,GY,PY,GF,VE,CO,AR  30-34    Man    Master’s degree   \n",
       "19118              CN,NP,MM,BT,PK,BD  22-24    Man  Bachelor’s degree   \n",
       "19119                    CN,AF,IR,IN  22-24    Man    Master’s degree   \n",
       "\n",
       "                      Occupation Coding Experience Q7_Part_1 Q7_Part_2  ...  \\\n",
       "0                        Student        5-10 years    Python         R  ...   \n",
       "1                  Data Engineer        5-10 years    Python         R  ...   \n",
       "2              Software Engineer       10-20 years       NaN       NaN  ...   \n",
       "3                 Data Scientist        5-10 years    Python       NaN  ...   \n",
       "4              Software Engineer         3-5 years    Python       NaN  ...   \n",
       "...                          ...               ...       ...       ...  ...   \n",
       "19115                      Other       10-20 years       NaN       NaN  ...   \n",
       "19116     Currently not employed         20+ years    Python       NaN  ...   \n",
       "19117         Research Scientist         < 1 years    Python       NaN  ...   \n",
       "19118          Software Engineer         3-5 years    Python       NaN  ...   \n",
       "19119  Machine Learning Engineer         < 1 years    Python       NaN  ...   \n",
       "\n",
       "             Q35_B_Part_2 Q35_B_Part_3 Q35_B_Part_4   Q35_B_Part_5  \\\n",
       "0                     NaN          NaN          NaN   TensorBoard    \n",
       "1                     NaN          NaN          NaN            NaN   \n",
       "2                     NaN          NaN          NaN            NaN   \n",
       "3                     NaN          NaN          NaN            NaN   \n",
       "4                     NaN          NaN          NaN            NaN   \n",
       "...                   ...          ...          ...            ...   \n",
       "19115                 NaN          NaN          NaN            NaN   \n",
       "19116                 NaN          NaN          NaN            NaN   \n",
       "19117                 NaN          NaN          NaN            NaN   \n",
       "19118   Weights & Biases           NaN          NaN   TensorBoard    \n",
       "19119   Weights & Biases           NaN          NaN            NaN   \n",
       "\n",
       "      Q35_B_Part_6 Q35_B_Part_7 Q35_B_Part_8 Q35_B_Part_9 Q35_B_Part_10  \\\n",
       "0              NaN          NaN          NaN          NaN           NaN   \n",
       "1              NaN          NaN          NaN          NaN           NaN   \n",
       "2              NaN          NaN          NaN          NaN          None   \n",
       "3              NaN          NaN          NaN          NaN           NaN   \n",
       "4              NaN          NaN          NaN          NaN           NaN   \n",
       "...            ...          ...          ...          ...           ...   \n",
       "19115          NaN          NaN          NaN          NaN          None   \n",
       "19116          NaN          NaN          NaN          NaN          None   \n",
       "19117          NaN          NaN          NaN          NaN           NaN   \n",
       "19118          NaN          NaN      Trains           NaN           NaN   \n",
       "19119          NaN          NaN      Trains           NaN           NaN   \n",
       "\n",
       "      Q35_B_OTHER  \n",
       "0             NaN  \n",
       "1             NaN  \n",
       "2             NaN  \n",
       "3             NaN  \n",
       "4             NaN  \n",
       "...           ...  \n",
       "19115         NaN  \n",
       "19116         NaN  \n",
       "19117         NaN  \n",
       "19118         NaN  \n",
       "19119         NaN  \n",
       "\n",
       "[19120 rows x 356 columns]"
      ]
     },
     "execution_count": 24,
     "metadata": {},
     "output_type": "execute_result"
    }
   ],
   "source": [
    "country_info = pd.read_table(\"countryInfo.txt\",skiprows=[i for i in range(0, 49)])\n",
    "country_info=country_info.filter(['#ISO', 'Country', 'neighbours'])\n",
    "country_info.set_index('Country',inplace=True)\n",
    "country_info=country_info.rename(columns={'#ISO':'Country Code'})\n",
    "merged_survey = pd.merge(country_info, survey, on=['Country'],how='right')\n",
    "merged_survey"
   ]
  },
  {
   "cell_type": "markdown",
   "metadata": {},
   "source": [
    "## Soru 14:\n",
    "Almanya ve komşu ülkeleri için ankete katılanlardan doktoralıların ülke bazında yüzdelerini, ülke isimlerine göre alfabetik sırada listeleyiniz."
   ]
  },
  {
   "cell_type": "code",
   "execution_count": 25,
   "metadata": {
    "scrolled": false
   },
   "outputs": [
    {
     "data": {
      "text/plain": [
       "Belgium        0.220339\n",
       "France         0.239617\n",
       "Germany        0.258486\n",
       "Netherlands    0.154362\n",
       "Poland         0.151724\n",
       "Switzerland    0.323529\n",
       "Name: Country, dtype: float64"
      ]
     },
     "execution_count": 25,
     "metadata": {},
     "output_type": "execute_result"
    }
   ],
   "source": [
    "merged_survey=merged_survey[(merged_survey['Country Code']=='DE')|(merged_survey['Country Code']=='PL')|\n",
    "(merged_survey['Country Code']=='NL')|(merged_survey['Country Code']=='BE')|(merged_survey['Country Code']=='FR')|\n",
    "(merged_survey['Country Code']=='CH')] #Avusturya, Lüksemburg, Danimarka, Çekya ülkelerinden ankete katılım olmamış\n",
    "filtered_merged_survey=merged_survey.filter(['Country','Education'])\n",
    "phd_survey=filtered_merged_survey[filtered_merged_survey['Education']=='Doctoral degree']\n",
    "phd_survey.Country.value_counts()/filtered_merged_survey.Country.value_counts().sort_index(ascending=False)"
   ]
  },
  {
   "cell_type": "code",
   "execution_count": null,
   "metadata": {},
   "outputs": [],
   "source": []
  }
 ],
 "metadata": {
  "kernelspec": {
   "display_name": "Python 3",
   "language": "python",
   "name": "python3"
  },
  "language_info": {
   "codemirror_mode": {
    "name": "ipython",
    "version": 3
   },
   "file_extension": ".py",
   "mimetype": "text/x-python",
   "name": "python",
   "nbconvert_exporter": "python",
   "pygments_lexer": "ipython3",
   "version": "3.8.8"
  }
 },
 "nbformat": 4,
 "nbformat_minor": 4
}
